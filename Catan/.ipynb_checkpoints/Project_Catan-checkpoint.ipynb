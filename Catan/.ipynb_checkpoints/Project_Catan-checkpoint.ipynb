{
 "cells": [
  {
   "cell_type": "markdown",
   "metadata": {},
   "source": [
    "# Project (Option 1) - Settlers of Catan \n",
    "\n",
    "#### Authors:\n",
    "\n",
    "v1.0 (2016 Spring) David Marn, Ashvin Nair, Kabir Chandrasekher, Tony Duan, Kangwook Lee, Kannan Ramchandran\n",
    "\n",
    "v1.1 (2017 Spring) Tavor Baharav, Kabir Chandrasekhar, Sinho Chewi, Andrew Liu, Kamil Nar, David Wang, and Kannan Ramchandran\n",
    "\n",
    "v1.2 (2018 Spring) Tavor Baharav, Kaylee Burns, Gary Cheng, Sinho Chewi, Hemang Jangle, William Gan, Alvin Kao, Chen Meng, Vrettos Muolos, Kanaad Parvate, Ray Ramamurti, and Kannan Ramchandran\n",
    "\n",
    "v1.3 (2018 Fall) Justin Hong, Eric Liu, Katie Kang, Ray Ramamurti, Raghav Anand, Kurtland Chua, Payam Delgosha, William Gan, Avishek Ghosh, Nikunj Jain, Adarsh Karnati, Kanaad Parvate, Amay Saxena, Kannan Ramchandran, Abhay Parekh\n",
    "\n",
    "v1.4 (2019 Spring) Justin Hong, Eric Liu, Katie Kang, Ray Ramamurti, Raghav Anand, Kurtland Chua, William Gan, Amay Saxena, Hemang Jangle, Gary Cheng, Alvin Kao, Ilian Herzi, Kannan Ramchandran\n",
    "\n",
    "## Introduction\n",
    "The goal of the game is to get $10$ victory points as fast as possible. To get these points, the player must choose a wise trade-off between spending resources to potentially obtain points and upgrading their modes of production. You, the chieftain of the island, must decide where and when to build additional <font color=purple>settlements</font> on the island to boost your resource production, with roads to connect them. Alternatively, you can invest into development cards, which will bring you a victory point, or upgrade a settlement into a <font color=blue>city</font> which doubles production and gives you another victory point. A settlement / city must border on a resource field in order to harvest its resources. We will have three different terrains: forests, which produce <font color=brown>wood</font>, hills which produce <font color=red>brick</font>, and fields of <font color=gray>grain</font> (grain). Additionally we have <font color=khaki>desert</font> which provide no resources. Every turn, we roll two dice and record the sum $X$. The settlements that are next to the tile that is labelled with $X$ get one resource from that field, and we keep collecting resources and building up to 10 victory points.\n",
    "\n",
    "## Game layout\n",
    "\n",
    "Our modified Catan board is drawn below.\n",
    "\n",
    "Tiles are color coded with the resource they produce: <font color=brown>wood</font>, <font color=red>brick</font>, <font color=green>grain</font>. (and <font color=khaki>desert</font>)\n",
    "\n",
    "You build <font color=purple>settlements</font> and <font color=blue>cities</font> on vertices of the board. The small purple square is a settlement, labeled \"1\" because it gives you one resource of the surrounding tiles when the corresponding number is rolled. The small blue square is a city and gives you 2 resources from surrounding tiles.\n",
    "\n",
    "These settlements and cities must be connected by roads (white)."
   ]
  },
  {
   "cell_type": "code",
   "execution_count": 1,
   "metadata": {},
   "outputs": [],
   "source": [
    "import numpy as np\n",
    "from catan import Catan, CatanException, get_random_dice_arrangement, Player, Game, simulate_1p_game, simulate_1p_game_with_data\n",
    "import matplotlib.pyplot as plt\n",
    "from itertools import repeat\n",
    "%matplotlib inline"
   ]
  },
  {
   "cell_type": "code",
   "execution_count": 2,
   "metadata": {},
   "outputs": [
    {
     "name": "stdout",
     "output_type": "stream",
     "text": [
      "Drawing...\n"
     ]
    },
    {
     "data": {
      "image/png": "[encoded data removed]",
      "text/plain": [
       "<Figure size 432x288 with 1 Axes>"
      ]
     },
     "metadata": {
      "needs_background": "light"
     },
     "output_type": "display_data"
    }
   ],
   "source": [
    "width, height = 4,4\n",
    "dice = get_random_dice_arrangement(width, height)\n",
    "resources = np.random.randint(0, 3, (height, width))\n",
    "board = Catan(dice, resources, {6:0, 16:1}, {13:0}, {(6, 7):0, (7, 12):0, (12, 13):0, (16,17): 1})\n",
    "board.register_player()\n",
    "board.register_player()\n",
    "board.draw()"
   ]
  },
  {
   "cell_type": "markdown",
   "metadata": {},
   "source": [
    "\n",
    "## Rules\n",
    "When implementing your Catan strategy, remember to follow these rules:\n",
    "<ul>\n",
    "<li> Every turn you roll 2 dice, call the sum X </li>\n",
    "<li> Find tiles labeled with the number X and collect one of that resource for every settlement and two of that resource for every city on a vertex of that tile (this logic is implemented for you already) </li>\n",
    "<li> If a 7 is rolled, the player must dump resources until their total resource count is below the max resource limit. </li>\n",
    "<!---<li> You can never have more than 6 of any resource: if you get extra, you just keep 6 </li>--->\n",
    "<li> You can trade 4 resources of the same kind for a resource of your choice (i.e. 4 grain for 1 wood) </li>\n",
    "<li> If you have a settlement or a city built on one of the 4 ports (4 corners), you can trade at a discount <ul>\n",
    "<li> Bottom left hand corner: wood port, trade 2 wood for 1 of any other resource </li>\n",
    "<li> Bottom right hand corner: brick port, trade 2 brick for 1 of any other resource </li>\n",
    "<li> Upper left hand corner: grain port, trade 2 grain for 1 of any other resource </li>\n",
    "<li> Upper right hand corner: general port, trade 3 of any resource for 1 of any other resource </li>\n",
    "</ul></li>\n",
    "<li>Settlements must be connected by roads </li>\n",
    "<li>Roads must be connected to settlements / cities or other roads </li>\n",
    "<li>Settlements cannot be built adjacent to other settlements or cities </li>\n",
    "<li> You can build by paying resources according to the costs below, and building any non-road item (including buying a development card) gives you 1 victory point </li>\n",
    "<li> You start the game off with 3 of each resource and no buildings </li>\n",
    "<li> You may make as many purchases as you want per turn </li>\n",
    "<li> You are alloted 3 minutes of computation time per 100 games over a fixed board. </li>\n",
    "    <ul> <li> You are free to divide this time between planBoard and realtime computation as you wish\n",
    "        </li> </ul>\n",
    "</ul>\n",
    "\n",
    "## Costs\n",
    "You can build settlements or cities, which boost your production and gain you a victory point, buy roads to enable new settlement buying, or buy development cards which brings you an additional victory point.\n",
    "\n",
    "The costs are given below, and stored in the array costs for convenience."
   ]
  },
  {
   "cell_type": "code",
   "execution_count": 3,
   "metadata": {},
   "outputs": [
    {
     "data": {
      "text/html": [
       "<table border=\"1\" class=\"dataframe\">\n",
       "  <thead>\n",
       "    <tr style=\"text-align: right;\">\n",
       "      <th></th>\n",
       "      <th>wood</th>\n",
       "      <th>brick</th>\n",
       "      <th>grain</th>\n",
       "    </tr>\n",
       "  </thead>\n",
       "  <tbody>\n",
       "    <tr>\n",
       "      <th>settlement</th>\n",
       "      <td>2</td>\n",
       "      <td>1</td>\n",
       "      <td>1</td>\n",
       "    </tr>\n",
       "    <tr>\n",
       "      <th>card</th>\n",
       "      <td>1</td>\n",
       "      <td>2</td>\n",
       "      <td>2</td>\n",
       "    </tr>\n",
       "    <tr>\n",
       "      <th>city</th>\n",
       "      <td>0</td>\n",
       "      <td>3</td>\n",
       "      <td>3</td>\n",
       "    </tr>\n",
       "    <tr>\n",
       "      <th>road</th>\n",
       "      <td>1</td>\n",
       "      <td>1</td>\n",
       "      <td>0</td>\n",
       "    </tr>\n",
       "  </tbody>\n",
       "</table>"
      ],
      "text/plain": [
       "<IPython.core.display.HTML object>"
      ]
     },
     "execution_count": 3,
     "metadata": {},
     "output_type": "execute_result"
    }
   ],
   "source": [
    "import pandas as pd\n",
    "\n",
    "costs = np.array([[2, 1, 1],\n",
    "                  [1, 2, 2],\n",
    "                  [0, 3, 3],\n",
    "                  [1, 1, 0]])\n",
    "\n",
    "resources = ['wood', 'brick', 'grain']\n",
    "buildings = ['settlement', 'card', 'city', 'road']\n",
    "df = pd.DataFrame(costs, index=buildings, columns=resources)\n",
    "html = df.to_html()\n",
    "from IPython.core.display import HTML\n",
    "HTML(html)"
   ]
  },
  {
   "cell_type": "markdown",
   "metadata": {},
   "source": [
    "The Catan board is implemented for you, with utilities to draw and get a table of resources gained. Feel free to skip this for now, play with the demo below, then come back up to reread the details of the implementation.\n",
    "\n",
    " \n",
    "Here's a short API of the classes and methods implemented in catan.py (which you're encouraged to check out):\n",
    "\n",
    "#### BOARD CLASS\n",
    "\n",
    "To initialize a board: \n",
    "`board = Catan(dice, resources, settlements, cities)`\n",
    "\n",
    "The constructor initializes our Catan board. Dice and resources must be the same shape: HxW where H is the height of the board and W is the width. dice[i,j] is the dice number that tile corresponds to (each element between 2-12 inclusive) and resources[i,j] is the resource that tile  provides. Settlements is a dictionary mapping vertices with settlements on them to player ids, and likewise for cities.\n",
    "\n",
    "`board.clear_board()`\n",
    "clears the board for a new game.\n",
    "\n",
    "`board.register_player()`\n",
    "registers a player to play on this board.\n",
    "\n",
    "`board.build(x,y,building,player_id)`\n",
    "takes in two coordinates, x and y, a building type (\"city\"/\"settlement\"), and a player_id and builds that player's building at the specified location. If the building cannot be built at that location, an exception is thrown.\n",
    "\n",
    "`board.build_road(c0,c1,player_id)`\n",
    "takes in two vertex location tuples (x0,y0) and (x1,y1), and a player_id and builds a road between the two vertices. If the road cannot be built at that location, an exception is thrown.\n",
    "\n",
    "`board.if_can_build(building,x,y,player_id)`\n",
    "returns False if a building cannot be built at that vertex for that player. Otherwise, it returns True.\n",
    "\n",
    "`board.if_can_build_road(v1,v2,player_id)`\n",
    "returns False if a road cannot be built between vertices v1 and v2 for that player. Otherwise, it returns true.\n",
    "\n",
    "`board.is_port(vertex)`\n",
    "returns True if vertex is located on a port, False otherwise.\n",
    "\n",
    "`board.which_port(v)`\n",
    "returns which port vertex v corresponds to (0 : wood port, 1 : brick port, 2 : grain port, 3 : general port).\n",
    "\n",
    "`board.get_resources(player_id)`\n",
    "returns a 11x3 numpy array of resources gained for each possible dice sum for the given player. That is, r[i, :] = resources gained from throwing a (i+2).\n",
    "\n",
    "`board.draw()`\n",
    "draws the board.\n",
    "\n",
    "\n",
    "#### PLAYER CLASS\n",
    "\n",
    "`player = Player(player_name,action,dumpPolicy,resources,points=0,turn_counter=0)`\n",
    "Where player_name is a string, an action is a function, dumpPolicy is a function, resources is an array, points and turn_counter are integers used for debugging.\n",
    "\n",
    "`player.join_board(board)`\n",
    "takes in a board instance and registers the player to this board, and reinitializes the player instance variables to the default initialization.\n",
    "\n",
    "`player.get_settlements()`\n",
    "`player.get_cities()`\n",
    "`player.get_roads)`\n",
    "gets a list of the players respective pieces from the board the player is registered with.\n",
    "\n",
    "`player.if_can_buy(item)` \n",
    "returns True if the player can afford item (\"card\"/\"settlement\"/\"city\") and False otherwise\n",
    "\n",
    "`player.buy(item)` \n",
    "actually buys the item and throws a CatanException if that is not possible. Note that you need to specify the location of an item with the optional arguments `x`,`y` if you are buying a city, settlement, or road.\n",
    "\n",
    "`player.trade(r_in,r_out)`\n",
    "Trades resource r_in for r_out with ratio 4:1, unless player owns a port allowing for better trades. Throws an exception if player does not have the required amount of resource r_in to complete the trade.\n",
    "\n",
    "\n",
    "#### TESTING\n",
    "\n",
    "To initialize a game:\n",
    "`game = Game(board, players)` where board is a `Catan` instance and players are a list of `Player` instances.\n",
    "\n",
    "`game.play_round()` \n",
    "plays one round of Catan: rolls the dice, collects the resources and calls the function action() for each player once.\n",
    "\n",
    "`game.check_win()`\n",
    "checks if a player has one and if so, returns the player's name and the number of turns played. If not, returns false.\n",
    "\n",
    "`game.run_game_to_completion()`\n",
    "runs a single game and returns the winner's name and the number of turns the winner took to win.\n",
    "\n",
    "`game.restart_game()`\n",
    "restarts the players and the game board for a new game.\n",
    "\n",
    "`game.simulate_game(num_trials)`\n",
    "simulates $num\\_trials$ games and returns a dictionary mapping player names to their $[average\\_turns, win\\_rate]$.\n",
    "\n",
    "`game.simulate_one_game_with_data()`\n",
    "simulates one game and returns a list of settlements, cities, roads, hands, live_points, and dice_rolls at each turn.\n",
    "\n",
    "`simulate_1p_game(action, dumpPolicy, planBoard, board, num_trials)`\n",
    "Simulates $num\\_trials$ games on $board$, with the precompute method $planBoard$ to be used beforehand, and the $action$ and $dumpPolicy$ methods for a one player game. Returns the average turns taken to win.\n",
    "\n",
    "`simulate_1p_game_with_data(action, dumpPolicy, planBoard, board)`\n",
    "simulates a one player game with the respective methods and board, returning a list of settlements, cities, roads, hands, live_points, and dice_rolls.\n"
   ]
  },
  {
   "cell_type": "markdown",
   "metadata": {},
   "source": [
    "##  <font color=blue>$\\mathcal{Q}$1. Learning the Game</font>"
   ]
  },
  {
   "cell_type": "code",
   "execution_count": 4,
   "metadata": {},
   "outputs": [
    {
     "name": "stdout",
     "output_type": "stream",
     "text": [
      "Drawing...\n",
      "[[2. 0. 0.]\n",
      " [1. 0. 1.]\n",
      " [2. 0. 0.]\n",
      " [0. 0. 1.]\n",
      " [1. 0. 0.]\n",
      " [0. 0. 0.]\n",
      " [0. 0. 0.]\n",
      " [0. 0. 0.]\n",
      " [0. 0. 0.]\n",
      " [0. 4. 0.]\n",
      " [0. 0. 0.]]\n"
     ]
    },
    {
     "ename": "NameError",
     "evalue": "name 'self' is not defined",
     "output_type": "error",
     "traceback": [
      "\u001b[0;31m---------------------------------------------------------------------------\u001b[0m",
      "\u001b[0;31mNameError\u001b[0m                                 Traceback (most recent call last)",
      "\u001b[0;32m<ipython-input-4-4bbf2a6f9216>\u001b[0m in \u001b[0;36m<module>\u001b[0;34m\u001b[0m\n\u001b[1;32m      1\u001b[0m \u001b[0mboard\u001b[0m\u001b[0;34m.\u001b[0m\u001b[0mdraw\u001b[0m\u001b[0;34m(\u001b[0m\u001b[0;34m)\u001b[0m\u001b[0;34m\u001b[0m\u001b[0m\n\u001b[1;32m      2\u001b[0m \u001b[0mprint\u001b[0m\u001b[0;34m(\u001b[0m\u001b[0mboard\u001b[0m\u001b[0;34m.\u001b[0m\u001b[0mget_resources\u001b[0m\u001b[0;34m(\u001b[0m\u001b[0;34m)\u001b[0m\u001b[0;34m)\u001b[0m\u001b[0;34m\u001b[0m\u001b[0m\n\u001b[0;32m----> 3\u001b[0;31m \u001b[0mprint\u001b[0m\u001b[0;34m(\u001b[0m\u001b[0mself\u001b[0m\u001b[0;34m.\u001b[0m\u001b[0mre\u001b[0m\u001b[0;34m)\u001b[0m\u001b[0;34m\u001b[0m\u001b[0m\n\u001b[0m\u001b[1;32m      4\u001b[0m \u001b[0;34m\u001b[0m\u001b[0m\n\u001b[1;32m      5\u001b[0m \u001b[0;31m# wood is brown, brick is red, grain is green\u001b[0m\u001b[0;34m\u001b[0m\u001b[0;34m\u001b[0m\u001b[0m\n",
      "\u001b[0;31mNameError\u001b[0m: name 'self' is not defined"
     ]
    },
    {
     "data": {
      "image/png": "[encoded data removed]",
      "text/plain": [
       "<Figure size 432x288 with 1 Axes>"
      ]
     },
     "metadata": {
      "needs_background": "light"
     },
     "output_type": "display_data"
    }
   ],
   "source": [
    "board.draw()\n",
    "print(board.get_resources())\n",
    "print(self.re)\n",
    "\n",
    "# wood is brown, brick is red, grain is green \n",
    "# below is the resource outcome of a dice roll 2-12"
   ]
  },
  {
   "cell_type": "markdown",
   "metadata": {},
   "source": [
    "## Game Simulation\n",
    "\n",
    "Run the code below to see a game in action! This will use our (bad) sample policy."
   ]
  },
  {
   "cell_type": "code",
   "execution_count": 5,
   "metadata": {},
   "outputs": [],
   "source": [
    "def get_possible_settlements(player):\n",
    "    possible_settlements = []\n",
    "    for x in range(5):\n",
    "        for y in range(5):\n",
    "            if player.board.if_can_build(\"settlement\", x, y, player.player_id):\n",
    "                new_settlement = ('s', (x,y))\n",
    "                possible_settlements.append(new_settlement)\n",
    "    return possible_settlements\n",
    "\n",
    "def get_possible_roads(player):\n",
    "    possible_roads = []\n",
    "    for x in range(5):\n",
    "        for y in range(4):\n",
    "            v1 = player.board.get_vertex_number(x, y)\n",
    "            v2 = player.board.get_vertex_number(x, y+1)\n",
    "            if player.board.if_can_build_road(v1, v2, player.player_id):\n",
    "                new_road = ('r', (x,y), (x,y+1))\n",
    "                possible_roads.append(new_road)\n",
    "    for y in range(5):\n",
    "        for x in range(4):\n",
    "            v1 = player.board.get_vertex_number(x, y)\n",
    "            v2 = player.board.get_vertex_number(x+1, y)\n",
    "            if player.board.if_can_build_road(v1, v2, player.player_id):\n",
    "                new_road = ('r', (x,y), (x+1,y))\n",
    "                possible_roads.append(new_road)\n",
    "    return possible_roads\n",
    "\n",
    "\n",
    "def possible_moves(player):\n",
    "    moves = [[], [], []]\n",
    "    if player.if_can_buy(\"settlement\"):\n",
    "        for move in get_possible_settlements(player):\n",
    "            moves[0].append(move)\n",
    "    if player.if_can_buy(\"road\"):\n",
    "        for move in get_possible_roads(player):\n",
    "            moves[1].append(move)\n",
    "    if player.if_can_buy(\"card\"):\n",
    "        moves[2].append(('v'))\n",
    "\n",
    "    return moves\n",
    "\n",
    "def can_build_settlement(player):\n",
    "    for x in range(5):\n",
    "        for y in range(5):\n",
    "            if player.board.if_can_build(\"settlement\", x, y, player.player_id):\n",
    "                return True\n",
    "    return False\n"
   ]
  },
  {
   "cell_type": "code",
   "execution_count": 6,
   "metadata": {},
   "outputs": [],
   "source": [
    "def planBoard(baseBoard):\n",
    "    # prefer middle of the board over edges\n",
    "    big_x = 0\n",
    "    big_y = 0\n",
    "    max_val = 0\n",
    "    for x in range(baseBoard.width+1):\n",
    "        for y in range(baseBoard.height+1):\n",
    "            if vals[x][y] > max_val:\n",
    "                big_x = x\n",
    "                big_y = y\n",
    "                max_val = vals[x][y]\n",
    "\n",
    "    optSettlementLoc = (big_y, big_x)\n",
    "    \n",
    "    return optSettlementLoc\n"
   ]
  },
  {
   "cell_type": "code",
   "execution_count": 7,
   "metadata": {},
   "outputs": [],
   "source": [
    "def heuristic(l_resources, vp, flag):\n",
    "    resource_weight = 100 #np.array([1, 1, 1])\n",
    "    victory_point_weight = 0\n",
    "    made_move_weight = 0.3\n",
    "\n",
    "\n",
    "    #return np.dot(l_resources, resource_weight.T) + vp*victory_point_weight + flag*made_move_weight\n",
    "    return resource_weight*l_resources + vp*victory_point_weight + flag*made_move_weight\n"
   ]
  },
  {
   "cell_type": "code",
   "execution_count": 8,
   "metadata": {},
   "outputs": [],
   "source": [
    "def calculate_expected_resources(board):\n",
    "    dice = board.dice\n",
    "    resources = board.resources\n",
    "    values = np.zeros((board.height+1, board.width+1))\n",
    "    discount_rate = 0.1\n",
    "\n",
    "    probabilities = [0, 0, 1/36, 2/36, 3/36, 4/36, 5/36, 0, 5/36, 4/36, 3/36, 2/36, 1/36]\n",
    "\n",
    "    for x in range(board.width):\n",
    "        for y in range(board.height):\n",
    "            tile_number = dice[x][y]\n",
    "            r = probabilities[tile_number]\n",
    "\n",
    "            #z = resources[x][y]\n",
    "            # for later when we want to calculate different resources\n",
    "\n",
    "            #bottom left point\n",
    "            values[x][y] += r\n",
    "\n",
    "            #bottom right point\n",
    "            values[x+1][y] += r\n",
    "\n",
    "            #top left point\n",
    "            values[x][y+1] += r\n",
    "\n",
    "            #top right point\n",
    "            values[x+1][y+1] += r\n",
    "\n",
    "    values /= (1 - discount_rate)\n",
    "    return values"
   ]
  },
  {
   "cell_type": "code",
   "execution_count": 9,
   "metadata": {},
   "outputs": [],
   "source": [
    "def action(self):\n",
    "    flag = True\n",
    "    max_score = 0\n",
    "    best_move = ('n')\n",
    "\n",
    "    if self.get_settlements() == []:\n",
    "        (x, y) = self.preComp\n",
    "        self.buy(\"settlement\", x, y)\n",
    "        return\n",
    "\n",
    "\n",
    "    while flag:\n",
    "        flag = False\n",
    "        moves = possible_moves(self)\n",
    "\n",
    "        for settlement in moves[0]:\n",
    "            score = heuristic(vals[settlement[1][0]][settlement[1][1]], 1, 1)\n",
    "            if score > max_score:\n",
    "                best_move = settlement\n",
    "                max_score = score\n",
    "\n",
    "        for road in moves[1]:\n",
    "            score = heuristic(0, 0, 1)\n",
    "            if score > max_score:\n",
    "                best_move = road\n",
    "                max_score = score\n",
    "\n",
    "        for victorypoint in moves[2]:\n",
    "            score = heuristic(0, 1, 1)\n",
    "            if score > max_score:\n",
    "                best_move = victorypoint\n",
    "                max_score = score\n",
    "\n",
    "\n",
    "\n",
    "        if best_move == ('n'):\n",
    "            if self.resources[np.argmax(self.resources)] >= 5:\n",
    "                rmax, rmin = np.argmax(self.resources), np.argmin(self.resources)\n",
    "                self.trade(rmax,rmin)\n",
    "                flag = True\n",
    "            else:\n",
    "                return\n",
    "        elif best_move[0] == 's':\n",
    "            self.buy(\"settlement\", best_move[1][0], best_move[1][1])\n",
    "        elif best_move[0] == 'r':\n",
    "            if self.resources[np.argmax(self.resources)] >= 5:\n",
    "                rmax, rmin = np.argmax(self.resources), np.argmin(self.resources)\n",
    "                self.trade(rmax,rmin)\n",
    "                flag = True\n",
    "                continue\n",
    "\n",
    "            if can_build_settlement(self):\n",
    "                return\n",
    "            self.buy(\"road\", best_move[1], best_move[2])\n",
    "\n",
    "            flag = True\n",
    "            max_score = 0\n",
    "            best_move = ('n')\n",
    "        elif best_move[0] == 'v':\n",
    "            self.buy(\"card\")\n",
    "    return\n"
   ]
  },
  {
   "cell_type": "code",
   "execution_count": 18,
   "metadata": {},
   "outputs": [
    {
     "name": "stdout",
     "output_type": "stream",
     "text": [
      "average turns to win: 109.36\n"
     ]
    }
   ],
   "source": [
    "# sample action function: takes in the \"Player\"\n",
    "def action_staff(self):\n",
    "    # inputs:\n",
    "    # resources - an array of resources\n",
    "    # costs - an array of costs, 0 - settlement, 1 - card, 2 - city\n",
    "    # basic strategy: Once we get 4 of one resource, we make a trade. \n",
    "    # Then we try to buy development cards\n",
    "    if self.get_settlements() == []:\n",
    "        (x,y) = self.preComp #use the optimal settlement location  \n",
    "        self.buy(\"settlement\", x, y) # we determined previously\n",
    "    elif self.if_can_buy(\"card\"):\n",
    "        self.buy(\"card\")\n",
    "    elif self.resources[np.argmax(self.resources)] >= 4:\n",
    "        rmax, rmin = np.argmax(self.resources), np.argmin(self.resources)\n",
    "        self.trade(rmax,rmin)\n",
    "    return\n",
    "\n",
    "# sample dump policy function: takes in the \"Player\" and ROBBER_MAX_RESOURCES\n",
    "# and returns a resource array which indicates the number of each resource to dump.\n",
    "# self.resources - dumpPolicy(self, max_resources) must sum up to less than or equal ROBBER_MAX_RESOURCES\n",
    "def dumpPolicy(self, max_resources):\n",
    "    new_resources = np.minimum(self.resources, max_resources // 3)\n",
    "    return self.resources - new_resources\n",
    "\n",
    "def planBoard_staff(baseBoard):\n",
    "    # prefer middle of the board over edges\n",
    "    x = np.random.randint(1, baseBoard.width)\n",
    "    y = np.random.randint(1, baseBoard.height)\n",
    "    optSettlementLoc = (x,y)\n",
    "    return optSettlementLoc\n",
    "    \n",
    "num_trials = 100\n",
    "vals = calculate_expected_resources(board)\n",
    "width, height = 4, 4\n",
    "dice = get_random_dice_arrangement(width, height)\n",
    "resources = np.random.randint(0, 3, (height, width))\n",
    "board = Catan(dice, resources)\n",
    "print(\"average turns to win: {}\".format(simulate_1p_game(action, dumpPolicy, planBoard, board, num_trials)))"
   ]
  },
  {
   "cell_type": "code",
   "execution_count": 16,
   "metadata": {},
   "outputs": [],
   "source": [
    "settlements, cities, roads, hands, live_points, dice_rolls = simulate_1p_game_with_data(action, dumpPolicy, planBoard, board)\n",
    "\n",
    "def draw(t):\n",
    "    t = int(t)\n",
    "    live_board = Catan(board.dice, board.resources, [], [])\n",
    "    live_board.settlements = settlements[t]\n",
    "    live_board.cities = cities[t]\n",
    "    live_board.roads = roads[t]\n",
    "    print(\"turn:\", t)\n",
    "    print(\"points:\", live_points[t])\n",
    "    print(\"dice roll:\", dice_rolls[t])\n",
    "    print(\"resources:\", hands[t])\n",
    "    live_board.draw()"
   ]
  },
  {
   "cell_type": "code",
   "execution_count": 8,
   "metadata": {},
   "outputs": [
    {
     "data": {
      "application/vnd.jupyter.widget-view+json": {
       "model_id": "aa298872cfb54f8999b8b021add58419",
       "version_major": 2,
       "version_minor": 0
      },
      "text/plain": [
       "interactive(children=(IntSlider(value=335, description='t', max=670), Output()), _dom_classes=('widget-interac…"
      ]
     },
     "metadata": {},
     "output_type": "display_data"
    },
    {
     "data": {
      "text/plain": [
       "<function __main__.draw(t)>"
      ]
     },
     "execution_count": 8,
     "metadata": {},
     "output_type": "execute_result"
    }
   ],
   "source": [
    "#If this cell doesn't work, run the two commands below in terminal\n",
    "# pip install ipywidgets\n",
    "# jupyter nbextension enable --py --sys-prefix widgetsnbextension\n",
    "\n",
    "from ipywidgets import *\n",
    "interact(draw, t=(0, len(live_points) - 1, 1))"
   ]
  },
  {
   "cell_type": "markdown",
   "metadata": {},
   "source": [
    "You are responsible for designing a good action / planning policy. Keep in mind that you are only allowed to modify these two methods, and that your action / planBoard / dumpPolicy functions must operate within a time constraint (under 3 minutes for 100 trials on a fixed board).\n",
    "\n",
    "Your bot will be tested on 10 random boards (same random seed for all students) for 100 runs each. We will also be testing on several purposefully adversarial boards to see how your bots run against more difficult maps."
   ]
  },
  {
   "cell_type": "markdown",
   "metadata": {},
   "source": [
    "## Competition\n",
    "As you may have noticed, the Board, Player, and Game classes are also designed for multiplayer games. We would like you to design player functions optimized against $n$ other players on the game board. Do your best to outcompete our staff `Player` class which will be released later on. An example of how to play games against different players is provided below. In our example, we play our (bad) sample policy against itself.\n",
    "\n",
    "Your multiplayer bot will also be tested against our staff bot as a baseline in 10 random boards, with 100 runs each. In addition, we will be running a round robin tournament of all the submissions against each other, with the top teams earning a little extra credit."
   ]
  },
  {
   "cell_type": "code",
   "execution_count": 9,
   "metadata": {},
   "outputs": [
    {
     "name": "stdout",
     "output_type": "stream",
     "text": [
      "Player 1 has a win rate of 0.4, with average 322.98 turns per won game\n",
      "Player 2 has a win rate of 0.6, with average 307.88 turns per won game\n"
     ]
    }
   ],
   "source": [
    "# Initialize board\n",
    "dice = get_random_dice_arrangement(width, height)\n",
    "resources = np.random.randint(0, 3, (height, width))\n",
    "board = Catan(dice, resources)\n",
    "\n",
    "# Initialize players\n",
    "player1 = Player(\"Player 1\", action, dumpPolicy, planBoard)\n",
    "player2 = Player(\"Player 2\", action, dumpPolicy, planBoard)\n",
    "\n",
    "# Initialize game\n",
    "game = Game(board, [player1, player2])\n",
    "\n",
    "# Simulate game and report results\n",
    "results = game.simulate_game(num_trials)\n",
    "for r in results:\n",
    "    print(\"{} has a win rate of {}, with average {} turns per won game\".format(r, results[r][1], round(results[r][0], 2)))"
   ]
  },
  {
   "cell_type": "markdown",
   "metadata": {},
   "source": [
    "##  <font color=blue> Efficient Optimization [OPTIONAL]\n",
    "### <font color=blue> This is just one suggestion of how to proceed. The important thing is to separate the adversarial real world game of Catan from this simulation, and to think in a stochastic optimization mindset. </font>"
   ]
  },
  {
   "cell_type": "markdown",
   "metadata": {},
   "source": [
    "In the final phase of the project, use the tools you wrote above to figure out the best action sequence to minimize the time until you reach 10 points. To make our calculations tractable we can compute something a little different than finding the optimum action over all actions and all possible game states. Instead, we can reduce the goal at any given moment to building the _next_ objective. In this framework, we need to minimize the expected time from having no resources to building each objective. The below questions are optional but we recommend at least looking over them to see the topics we cover in class from a computing point of view."
   ]
  },
  {
   "cell_type": "markdown",
   "metadata": {
    "collapsed": true
   },
   "source": [
    "### <font color=blue> 1. Create a function `get_transition_matrix` which returns the transition matrix of your Markov chain. </font>"
   ]
  },
  {
   "cell_type": "code",
   "execution_count": null,
   "metadata": {},
   "outputs": [],
   "source": [
    "def transition_matrix(board):\n",
    "    \"\"\"returns matrix T[i, j] = P(transition from state i to state j)\"\"\"\n",
    "    ### Fill in your solution here\n",
    "    return np.zeros((2,2))\n",
    "\n",
    "T = transition_matrix(board)\n",
    "print(T)"
   ]
  },
  {
   "cell_type": "markdown",
   "metadata": {},
   "source": [
    "##  <font color=blue> Calculating Hitting Time</font>\n",
    "\n",
    "Let's start by building a useful function to answer the question: given a board layout and starting resources, how long will it take until you can afford a specific building?\n",
    "\n",
    "Hint: one method would be to create another Markov chain/transition matrix where the hitting time between two of the states gives the time until you can afford a building."
   ]
  },
  {
   "cell_type": "markdown",
   "metadata": {},
   "source": [
    "### <font color=blue> 2a. Write a function to calculate mean hitting time from 0 resources until you can afford a building."
   ]
  },
  {
   "cell_type": "code",
   "execution_count": null,
   "metadata": {},
   "outputs": [],
   "source": [
    "def hitting_time(board, building):\n",
    "    ### your code here\n",
    "    return [42]\n",
    "    \n",
    "h = hitting_time(board, 1) # calculates time until we can afford a VP card\n",
    "print(h)"
   ]
  },
  {
   "cell_type": "markdown",
   "metadata": {},
   "source": [
    "### <font color=blue> 2b. Simulate the Markov process and record the expected hitting time to states to check the accuracy of your hitting time function. </font>"
   ]
  },
  {
   "cell_type": "code",
   "execution_count": null,
   "metadata": {},
   "outputs": [],
   "source": [
    "# simulator goes here\n"
   ]
  },
  {
   "cell_type": "markdown",
   "metadata": {},
   "source": [
    "Now you can minimize total expected hitting time with your policy using your hitting time function to speed up the optimization instead of simulating everything."
   ]
  }
 ],
 "metadata": {
  "anaconda-cloud": {},
  "kernelspec": {
   "display_name": "Python 3",
   "language": "python",
   "name": "python3"
  },
  "language_info": {
   "codemirror_mode": {
    "name": "ipython",
    "version": 3
   },
   "file_extension": ".py",
   "mimetype": "text/x-python",
   "name": "python",
   "nbconvert_exporter": "python",
   "pygments_lexer": "ipython3",
   "version": "3.7.0"
  }
 },
 "nbformat": 4,
 "nbformat_minor": 1
}
